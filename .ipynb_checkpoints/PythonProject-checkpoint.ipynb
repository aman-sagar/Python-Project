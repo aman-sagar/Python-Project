{
 "cells": [
  {
   "cell_type": "code",
   "execution_count": 2,
   "metadata": {},
   "outputs": [],
   "source": [
    "import requests\n",
    "from bs4 import BeautifulSoup\n",
    "import json\n",
    "import csv\n",
    "from flask import Flask, render_template, request"
   ]
  },
  {
   "cell_type": "code",
   "execution_count": 3,
   "metadata": {},
   "outputs": [],
   "source": [
    "def getflip(category):\n",
    "    \n",
    "    pn = [\"Name of the Product\"]\n",
    "    pp = [\"Price of the Product\"]\n",
    "    pr = [\"Rating of the Product\"]\n",
    "    \n",
    "    fpl = None\n",
    "    \n",
    "    \n",
    "    url = f\"https://www.flipkart.com/search?q={category}&otracker=search&otracker1=search&marketplace=FLIPKART&as-show=on&as=off\"\n",
    "    \n",
    "    data = requests.get(url)\n",
    "    \n",
    "    soup = BeautifulSoup(data.text)\n",
    "    \n",
    "    pnt = soup.find_all('div', class_ = '_3wU53n')\n",
    "        \n",
    "    for tag in pnt:\n",
    "        pn.append(tag.text)\n",
    "        \n",
    "    ppt = soup.find_all('div', class_ = ['_1vC4OE', '_2rQ-NK'])\n",
    "    \n",
    "    for price in ppt:\n",
    "        pp.append(price.text)\n",
    "        \n",
    "    prt = soup.find_all('div', class_ = 'hGSR34')\n",
    "    \n",
    "    for rating in prt:\n",
    "        pr.append(rating.text)\n",
    "        \n",
    "    fpl = (list(zip(pn, pp, pr))) #[(rating, fdjn, fjd)]\n",
    "        \n",
    "    return fpl"
   ]
  },
  {
   "cell_type": "code",
   "execution_count": 4,
   "metadata": {},
   "outputs": [],
   "source": [
    "app = Flask(\"FlipScraper\")"
   ]
  },
  {
   "cell_type": "code",
   "execution_count": 5,
   "metadata": {},
   "outputs": [],
   "source": [
    "@app.route(\"/\")\n",
    "def index():\n",
    "    return render_template(\"index.html\")"
   ]
  },
  {
   "cell_type": "code",
   "execution_count": 6,
   "metadata": {},
   "outputs": [],
   "source": [
    "@app.route(\"/submit/\", methods = [\"get\", \"post\"])\n",
    "def submit():\n",
    "    \n",
    "    category = request.form.get(\"category\")\n",
    "    \n",
    "#     fpl = getflip(category)\n",
    "    \n",
    "    return render_template(\"submit.html\", fpl = getflip(category))"
   ]
  },
  {
   "cell_type": "code",
   "execution_count": null,
   "metadata": {},
   "outputs": [],
   "source": [
    "app.run() "
   ]
  },
  {
   "cell_type": "code",
   "execution_count": null,
   "metadata": {},
   "outputs": [],
   "source": []
  }
 ],
 "metadata": {
  "kernelspec": {
   "display_name": "Python 3",
   "language": "python",
   "name": "python3"
  },
  "language_info": {
   "codemirror_mode": {
    "name": "ipython",
    "version": 3
   },
   "file_extension": ".py",
   "mimetype": "text/x-python",
   "name": "python",
   "nbconvert_exporter": "python",
   "pygments_lexer": "ipython3",
   "version": "3.7.7"
  }
 },
 "nbformat": 4,
 "nbformat_minor": 4
}
